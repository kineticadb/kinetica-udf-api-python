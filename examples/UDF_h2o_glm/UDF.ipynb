{
 "cells": [
  {
   "cell_type": "markdown",
   "metadata": {},
   "source": [
    "## Setup input talbe"
   ]
  },
  {
   "cell_type": "code",
   "execution_count": 30,
   "metadata": {},
   "outputs": [
    {
     "name": "stdout",
     "output_type": "stream",
     "text": [
      "Overwriting setup_table.py\n"
     ]
    }
   ],
   "source": [
    "%%writefile setup_table.py\n",
    "from kinetica_proc import ProcData\n",
    "import test_environment as te\n",
    "import shutil\n",
    "\n",
    "\"\"\"setup the table example_loan_data for UDF\"\"\"\n",
    "\n",
    "te.ingest_loan_data()"
   ]
  },
  {
   "cell_type": "code",
   "execution_count": null,
   "metadata": {},
   "outputs": [],
   "source": [
    "%run python setup_table.py"
   ]
  },
  {
   "cell_type": "markdown",
   "metadata": {},
   "source": [
    "## Register and run the training UDF"
   ]
  },
  {
   "cell_type": "code",
   "execution_count": 29,
   "metadata": {},
   "outputs": [
    {
     "name": "stdout",
     "output_type": "stream",
     "text": [
      "Overwriting Register_execute_H2Otrain.py\n"
     ]
    }
   ],
   "source": [
    "%%writefile Register_execute_H2Otrain.py\n",
    "import gpudb\n",
    "import collections\n",
    "import sys\n",
    "\n",
    "INPUT_TABLE = \"example_loan_data\"\n",
    "host_ip=\"127.0.0.1\" \n",
    "\n",
    "#register UDF\n",
    "def main(h_db):\n",
    "    proc_name = 'H2o_Train'\n",
    "    \n",
    "    filelist=[\"H2O_train.py\",\"kinetica_proc.py\"] # put the main python script in the first place\n",
    "    # Read proc code in as bytes and add to a file data array\n",
    "    files = {}\n",
    "    for ifile in filelist:\n",
    "        with open(ifile,'rb') as f:\n",
    "            files[ifile]=f.read()\n",
    "    # Connect to Kinetica\n",
    "    h_db = gpudb.GPUdb(encoding = 'BINARY', host = host_ip, port =\"9191\")\n",
    "    # Remove proc if it exists from a prior registration\n",
    "    if h_db.has_proc(proc_name)['proc_exists']:\n",
    "        h_db.delete_proc(proc_name)\n",
    "    print(\"Registering proc...\")\n",
    "    response = h_db.create_proc(proc_name, 'distributed', files, 'python', [filelist[0]], {})\n",
    "\n",
    "    ####################\n",
    "    #Execute UDF\n",
    "    print(\"Executing proc...\")\n",
    "    response = h_db.execute_proc(proc_name, {}, {}, [INPUT_TABLE], {}, [], {})\n",
    "    print(response)\n",
    "\n",
    "if __name__==\"__main__\":\n",
    "    h_db = gpudb.GPUdb(encoding = 'BINARY', host = host_ip, port = 9191)\n",
    "    main(h_db)"
   ]
  },
  {
   "cell_type": "code",
   "execution_count": 27,
   "metadata": {},
   "outputs": [
    {
     "name": "stdout",
     "output_type": "stream",
     "text": [
      "Warning: Client version (6.1.0) does not match that of the server (6.2.0)\n",
      "Warning: Client version (6.1.0) does not match that of the server (6.2.0)\n",
      "Registering proc...\n",
      "Executing proc...\n",
      "{'run_id': '18', 'status_info': {'status': 'OK', 'message': '', 'data_type': 'execute_proc_response', 'response_time': 0.00115}}\n"
     ]
    }
   ],
   "source": [
    "%run python Register_execute_H2Otrain.py"
   ]
  },
  {
   "cell_type": "code",
   "execution_count": null,
   "metadata": {},
   "outputs": [],
   "source": []
  }
 ],
 "metadata": {
  "kernelspec": {
   "display_name": "Python 3",
   "language": "python",
   "name": "python3"
  },
  "language_info": {
   "codemirror_mode": {
    "name": "ipython",
    "version": 3
   },
   "file_extension": ".py",
   "mimetype": "text/x-python",
   "name": "python",
   "nbconvert_exporter": "python",
   "pygments_lexer": "ipython3",
   "version": "3.6.5"
  }
 },
 "nbformat": 4,
 "nbformat_minor": 2
}
